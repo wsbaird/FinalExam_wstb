{
 "cells": [
  {
   "cell_type": "code",
   "execution_count": 1,
   "metadata": {},
   "outputs": [],
   "source": [
    "#Final Project\n",
    "#Scott Baird\n",
    "#Python 3\n",
    "#Fall 2020\n",
    "#CS 150 01"
   ]
  },
  {
   "cell_type": "code",
   "execution_count": 2,
   "metadata": {},
   "outputs": [],
   "source": [
    "from prettytable import PrettyTable\n",
    "import math\n",
    "import numpy as np"
   ]
  },
  {
   "cell_type": "code",
   "execution_count": 3,
   "metadata": {},
   "outputs": [],
   "source": [
    "funclist = []"
   ]
  },
  {
   "cell_type": "code",
   "execution_count": 4,
   "metadata": {},
   "outputs": [],
   "source": [
    "def cylindervolume():\n",
    "    cyvol = []\n",
    "    h = float(input(\"Please enter a height:\"))\n",
    "    r = float(input(\"Please enter a radius:\"))\n",
    "    v = math.pi * (r**2) * h\n",
    "    cyvol.append(\"Cylinder Volume\")\n",
    "    cyvol.append(h)\n",
    "    cyvol.append(r)\n",
    "    cyvol.append(v)\n",
    "    funclist.append(cyvol)\n",
    "    print ('The volume of the cylinder is', v, 'cubic units.')"
   ]
  },
  {
   "cell_type": "code",
   "execution_count": 5,
   "metadata": {},
   "outputs": [],
   "source": [
    "def cylindersurface():\n",
    "    cysur = []\n",
    "    h = float(input(\"Please enter a height:\"))\n",
    "    r = float(input(\"Please enter a radius:\"))\n",
    "    a = (2 * math.pi * r * h) + (2 * math.pi * (r**2))\n",
    "    cysur.append(\"Cylinder Surface\")\n",
    "    cysur.append(h)\n",
    "    cysur.append(r)\n",
    "    cysur.append(a)\n",
    "    funclist.append(cysur)\n",
    "    print ('The surface of the cylinder is', a, 'square units.')"
   ]
  },
  {
   "cell_type": "code",
   "execution_count": 6,
   "metadata": {},
   "outputs": [],
   "source": [
    "def conevolume():\n",
    "    covol = []\n",
    "    h = float(input(\"Please enter a height:\"))\n",
    "    r = float(input(\"Please enter a radius:\"))\n",
    "    v = math.pi * (r ** 2) * (h / 3)\n",
    "    covol.append(\"Cone Volume\")\n",
    "    covol.append(h)\n",
    "    covol.append(r)\n",
    "    covol.append(v)\n",
    "    funclist.append(covol)\n",
    "    print ('The volume of the cone is', v, 'cubic units.')"
   ]
  },
  {
   "cell_type": "code",
   "execution_count": 7,
   "metadata": {},
   "outputs": [],
   "source": [
    "def conesurface():\n",
    "    cosur = []\n",
    "    h = float(input(\"Please enter a height:\"))\n",
    "    r = float(input(\"Please enter a radius:\"))\n",
    "    a = math.pi * r * (r + math.sqrt((h ** 2) + (r ** 2)))\n",
    "    cosur.append(\"Cone Surface\")\n",
    "    cosur.append(h)\n",
    "    cosur.append(r)\n",
    "    cosur.append(a)\n",
    "    funclist.append(cosur)\n",
    "    print ('The surface of the cone is', a, 'square units.')"
   ]
  },
  {
   "cell_type": "code",
   "execution_count": 8,
   "metadata": {},
   "outputs": [],
   "source": [
    "def display_menu():\n",
    "    dtable = PrettyTable()\n",
    "    dtable.field_names = [\"Geometry Calculator\"]\n",
    "    dtable.align['Geometry Calculator'] = \"l\"\n",
    "    dtable.add_row(['1. Calculate the volume of a cylinder'])\n",
    "    dtable.add_row(['2. Calculate the surface of a cylinder'])\n",
    "    dtable.add_row(['3. Calculate the volume of a cone'])\n",
    "    dtable.add_row(['4. Calculate the surface of a cone'])\n",
    "    dtable.add_row(['5. Print Table'])\n",
    "    dtable.add_row(['6. Save Data'])\n",
    "    return (dtable)"
   ]
  },
  {
   "cell_type": "code",
   "execution_count": 9,
   "metadata": {},
   "outputs": [],
   "source": [
    "def printtable():\n",
    "    functable = PrettyTable()\n",
    "    functable.field_names = [\"Measurement\", \"Height\", \"Radius\", \"Value\"]\n",
    "    funcarray = np.array(funclist)\n",
    "    for x in range(len(funclist)):\n",
    "        functable.add_row (funcarray[x, :])\n",
    "    print (functable)"
   ]
  },
  {
   "cell_type": "code",
   "execution_count": 10,
   "metadata": {},
   "outputs": [],
   "source": [
    "def savedata():\n",
    "    filename = input(\"Enter the name of your save data ending in .txt:\")\n",
    "    f = open(filename, \"w\")\n",
    "    f.write(str(funclist))\n",
    "    f.close()"
   ]
  },
  {
   "cell_type": "code",
   "execution_count": 11,
   "metadata": {},
   "outputs": [],
   "source": [
    "def main():\n",
    "    print(\"Welcome to Geometry Calculator!\")\n",
    "    print(display_menu())\n",
    "    action = input(\"Choose an option (-1 to quit):\")\n",
    "    while action == '1' or action == '2' or action == '3' or action == '4' or action == '5' or action == '6':\n",
    "        if action == '1':\n",
    "            cylindervolume()\n",
    "            print(display_menu())\n",
    "            action = input(\"Choose an option (-1 to quit):\")\n",
    "        if action == '2':\n",
    "            cylindersurface()\n",
    "            print(display_menu())\n",
    "            action = input(\"Choose an option (-1 to quit):\")\n",
    "        if action == '3':\n",
    "            conevolume()\n",
    "            print(display_menu())\n",
    "            action = input(\"Choose an option (-1 to quit):\")\n",
    "        if action == '4':\n",
    "            conesurface()\n",
    "            print(display_menu())\n",
    "            action = input(\"Choose an option (-1 to quit):\")\n",
    "        if action == '5':\n",
    "            printtable()\n",
    "            print(display_menu())\n",
    "            action = input(\"Choose an option (-1 to quit):\")\n",
    "        if action == '6':\n",
    "            savedata()\n",
    "            print(display_menu())\n",
    "            action = input(\"Choose an option (-1 to quit):\")\n",
    "    if action == '-1':\n",
    "        print (\"Thanks for using Geometry Calculator!\")"
   ]
  },
  {
   "cell_type": "code",
   "execution_count": null,
   "metadata": {},
   "outputs": [
    {
     "name": "stdout",
     "output_type": "stream",
     "text": [
      "Welcome to Geometry Calculator!\n",
      "+----------------------------------------+\n",
      "| Geometry Calculator                    |\n",
      "+----------------------------------------+\n",
      "| 1. Calculate the volume of a cylinder  |\n",
      "| 2. Calculate the surface of a cylinder |\n",
      "| 3. Calculate the volume of a cone      |\n",
      "| 4. Calculate the surface of a cone     |\n",
      "| 5. Print Table                         |\n",
      "| 6. Save Data                           |\n",
      "+----------------------------------------+\n"
     ]
    }
   ],
   "source": [
    "main()"
   ]
  },
  {
   "cell_type": "code",
   "execution_count": null,
   "metadata": {},
   "outputs": [],
   "source": []
  }
 ],
 "metadata": {
  "kernelspec": {
   "display_name": "Python 3",
   "language": "python",
   "name": "python3"
  },
  "language_info": {
   "codemirror_mode": {
    "name": "ipython",
    "version": 3
   },
   "file_extension": ".py",
   "mimetype": "text/x-python",
   "name": "python",
   "nbconvert_exporter": "python",
   "pygments_lexer": "ipython3",
   "version": "3.8.3"
  }
 },
 "nbformat": 4,
 "nbformat_minor": 4
}
